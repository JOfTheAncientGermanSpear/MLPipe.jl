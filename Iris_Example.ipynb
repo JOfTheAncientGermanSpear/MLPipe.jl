{
 "cells": [
  {
   "cell_type": "code",
   "execution_count": 1,
   "metadata": {
    "collapsed": false,
    "scrolled": false
   },
   "outputs": [],
   "source": [
    "using MLPipe"
   ]
  },
  {
   "cell_type": "code",
   "execution_count": 2,
   "metadata": {
    "collapsed": false,
    "scrolled": false
   },
   "outputs": [
    {
     "name": "stderr",
     "output_type": "stream",
     "text": [
      "WARNING: using Lazy.take in module Main conflicts with an existing identifier.\n",
      "WARNING: using Lazy.rest in module Main conflicts with an existing identifier.\n",
      "WARNING: using Lazy.range in module Main conflicts with an existing identifier.\n",
      "WARNING: using Lazy.drop in module Main conflicts with an existing identifier.\n",
      "WARNING: using Lazy.cycle in module Main conflicts with an existing identifier.\n"
     ]
    }
   ],
   "source": [
    "using MLBase\n",
    "using Lazy\n",
    "using PyCall\n",
    "using RDatasets"
   ]
  },
  {
   "cell_type": "markdown",
   "metadata": {},
   "source": [
    "### Load And Inspect Data"
   ]
  },
  {
   "cell_type": "code",
   "execution_count": 3,
   "metadata": {
    "collapsed": false
   },
   "outputs": [
    {
     "data": {
      "text/html": [
       "<table class=\"data-frame\"><tr><th></th><th>SepalLength</th><th>SepalWidth</th><th>PetalLength</th><th>PetalWidth</th><th>Species</th></tr><tr><th>1</th><td>5.1</td><td>3.5</td><td>1.4</td><td>0.2</td><td>setosa</td></tr><tr><th>2</th><td>4.9</td><td>3.0</td><td>1.4</td><td>0.2</td><td>setosa</td></tr><tr><th>3</th><td>4.7</td><td>3.2</td><td>1.3</td><td>0.2</td><td>setosa</td></tr><tr><th>4</th><td>4.6</td><td>3.1</td><td>1.5</td><td>0.2</td><td>setosa</td></tr><tr><th>5</th><td>5.0</td><td>3.6</td><td>1.4</td><td>0.2</td><td>setosa</td></tr><tr><th>6</th><td>5.4</td><td>3.9</td><td>1.7</td><td>0.4</td><td>setosa</td></tr></table>"
      ],
      "text/plain": [
       "6×5 DataFrames.DataFrame\n",
       "│ Row │ SepalLength │ SepalWidth │ PetalLength │ PetalWidth │ Species  │\n",
       "├─────┼─────────────┼────────────┼─────────────┼────────────┼──────────┤\n",
       "│ 1   │ 5.1         │ 3.5        │ 1.4         │ 0.2        │ \"setosa\" │\n",
       "│ 2   │ 4.9         │ 3.0        │ 1.4         │ 0.2        │ \"setosa\" │\n",
       "│ 3   │ 4.7         │ 3.2        │ 1.3         │ 0.2        │ \"setosa\" │\n",
       "│ 4   │ 4.6         │ 3.1        │ 1.5         │ 0.2        │ \"setosa\" │\n",
       "│ 5   │ 5.0         │ 3.6        │ 1.4         │ 0.2        │ \"setosa\" │\n",
       "│ 6   │ 5.4         │ 3.9        │ 1.7         │ 0.4        │ \"setosa\" │"
      ]
     },
     "execution_count": 3,
     "metadata": {},
     "output_type": "execute_result"
    }
   ],
   "source": [
    "iris = dataset(\"datasets\", \"iris\");\n",
    "head(iris)"
   ]
  },
  {
   "cell_type": "markdown",
   "metadata": {},
   "source": [
    "#### Split Into Validation and Data Sets"
   ]
  },
  {
   "cell_type": "code",
   "execution_count": 4,
   "metadata": {
    "collapsed": false,
    "scrolled": true
   },
   "outputs": [
    {
     "name": "stdout",
     "output_type": "stream",
     "text": [
      "(30,5)\n",
      "(120,5)\n"
     ]
    }
   ],
   "source": [
    "validation_set, data_set = begin\n",
    "    num_subjects = size(iris, 1)\n",
    "    validation_ixs = 1:5:num_subjects\n",
    "    data_ixs = setdiff(1:num_subjects, validation_ixs)\n",
    "    \n",
    "    iris[validation_ixs, :], iris[data_ixs, :]\n",
    "end\n",
    "\n",
    "@> validation_set size println\n",
    "@> data_set size println"
   ]
  },
  {
   "cell_type": "markdown",
   "metadata": {
    "collapsed": true
   },
   "source": [
    "## See If Data Is Linearly Seperable\n",
    "\n",
    "Linear models produce coefficients that are directly interpretable\n",
    "\n",
    "#### calcAnova vs calcCorrelations\n",
    "\n",
    "Use `calcAnova` to analyze correlations between predictors and a __categorical__ prediction outcome.\n",
    "\n",
    "Use `calcCorrelations` to analyze correlations between predictors and a __continuous__ prediction outcome."
   ]
  },
  {
   "cell_type": "code",
   "execution_count": 5,
   "metadata": {
    "collapsed": false
   },
   "outputs": [
    {
     "data": {
      "text/plain": [
       "Dict{Symbol,MLPipe.AnovaInfo} with 4 entries:\n",
       "  :PetalWidth  => Groups Info…\n",
       "  :SepalWidth  => Groups Info…\n",
       "  :PetalLength => Groups Info…\n",
       "  :SepalLength => Groups Info…"
      ]
     },
     "execution_count": 5,
     "metadata": {},
     "output_type": "execute_result"
    }
   ],
   "source": [
    "predictor_cols = names(data_set)[1:4]\n",
    "corrs = calcAnova(data_set, names(data_set)[1:4], :Species)"
   ]
  },
  {
   "cell_type": "code",
   "execution_count": 6,
   "metadata": {
    "collapsed": false
   },
   "outputs": [
    {
     "name": "stdout",
     "output_type": "stream",
     "text": [
      "PetalWidth\n",
      "F-Stat: 757.65569739458, P-Value: 1.0962173966732075e-67\n",
      "\n",
      "SepalWidth\n",
      "F-Stat: 42.965327135118436, P-Value: 1.0210219072836324e-14\n",
      "\n",
      "PetalLength\n",
      "F-Stat: 876.423642465918, P-Value: 3.874483668862918e-71\n",
      "\n",
      "SepalLength\n",
      "F-Stat: 92.147407024539, P-Value: 9.286691162504962e-25\n",
      "\n"
     ]
    }
   ],
   "source": [
    "#Usually Just f-stat and p-value is enough\n",
    "#If p-value is low (f-stat is high), indicates strong correlation\n",
    "\n",
    "for (pred, ai) in corrs\n",
    "    println(pred)\n",
    "    fstat = ai.results_info[:FStat] |> dropna |> first\n",
    "    pvalue = ai.results_info[:PValue] |> dropna |> first\n",
    "    println(\"F-Stat: $fstat, P-Value: $pvalue\")\n",
    "    println()\n",
    "end"
   ]
  },
  {
   "cell_type": "markdown",
   "metadata": {},
   "source": [
    "#### Low P-value's and high F-stats indicate separability. \n",
    "\n",
    "More detail can also be viewed for each predictor"
   ]
  },
  {
   "cell_type": "code",
   "execution_count": 7,
   "metadata": {
    "collapsed": false
   },
   "outputs": [
    {
     "name": "stdout",
     "output_type": "stream",
     "text": [
      "#####\n",
      "PetalWidth: Groups Info\n",
      "3×4 DataFrames.DataFrame\n",
      "│ Row │ label        │ n  │ mean   │ stdError  │\n",
      "├─────┼──────────────┼────┼────────┼───────────┤\n",
      "│ 1   │ \"setosa\"     │ 40 │ 0.2425 │ 0.0175    │\n",
      "│ 2   │ \"versicolor\" │ 40 │ 1.3225 │ 0.0300614 │\n",
      "│ 3   │ \"virginica\"  │ 40 │ 1.985  │ 0.0430489 │\n",
      "\n",
      "PetalWidth: Anova Results\n",
      "3×5 DataFrames.DataFrame\n",
      "│ Row │ source          │ df  │ sum_squares │ FStat   │ PValue      │\n",
      "├─────┼─────────────────┼─────┼─────────────┼─────────┼─────────────┤\n",
      "│ 1   │ \"Within Group\"  │ 117 │ 4.7785      │ 757.656 │ 1.09622e-67 │\n",
      "│ 2   │ \"Between Group\" │ 2   │ 61.8882     │ NA      │ NA          │\n",
      "│ 3   │ \"Total\"         │ 119 │ 66.6667     │ NA      │ NA          │\n",
      "\n",
      "PetalWidth: Tukey Analysis\n",
      "3×4 DataFrames.DataFrame\n",
      "│ Row │ left         │ right        │ q       │ pval        │\n",
      "├─────┼──────────────┼──────────────┼─────────┼─────────────┤\n",
      "│ 1   │ \"versicolor\" │ \"setosa\"     │ 33.7988 │ 1.64762e-62 │\n",
      "│ 2   │ \"virginica\"  │ \"setosa\"     │ 54.5318 │ 2.4804e-85  │\n",
      "│ 3   │ \"virginica\"  │ \"versicolor\" │ 20.733  │ 2.75639e-41 │\n",
      "#####\n"
     ]
    }
   ],
   "source": [
    "pred = :PetalWidth\n",
    "ai = corrs[pred]\n",
    "println(\"#####\")\n",
    "println(\"$pred: Groups Info\")\n",
    "println(ai.groups_info)\n",
    "println()\n",
    "println(\"$pred: Anova Results\")\n",
    "println(ai.results_info)\n",
    "println()\n",
    "println(\"$pred: Tukey Analysis\")\n",
    "println(tukey(ai))\n",
    "println(\"#####\")"
   ]
  },
  {
   "cell_type": "markdown",
   "metadata": {},
   "source": [
    "## Create Pipeline"
   ]
  },
  {
   "cell_type": "code",
   "execution_count": 8,
   "metadata": {
    "collapsed": false
   },
   "outputs": [
    {
     "data": {
      "text/plain": [
       "pipelineGen (generic function with 2 methods)"
      ]
     },
     "execution_count": 8,
     "metadata": {},
     "output_type": "execute_result"
    }
   ],
   "source": [
    "svc = begin\n",
    "    @pyimport sklearn.svm as svm\n",
    "    svm.LinearSVC()\n",
    "end\n",
    "\n",
    "function pipelineGen(data_set = data_set)\n",
    "    #dictionary to hold model state during processing\n",
    "    #updated over range of Cs by evalModel, will be clear shortly\n",
    "    model_state = Dict(:svc_C => 1.)\n",
    "\n",
    "    #fit functions\n",
    "    fits = begin\n",
    "        getXy(ixs) = (Matrix(data_set[ixs, predictor_cols]), Vector(data_set[ixs, :Species]))\n",
    "\n",
    "        function svcFit!(Xy)\n",
    "            X, y= Xy\n",
    "            svc[:C] = model_state[:svc_C]\n",
    "            svc[:fit](X, y)\n",
    "        end\n",
    "\n",
    "        [getXy, svcFit!]\n",
    "    end\n",
    "\n",
    "    #predict functions\n",
    "    predicts = begin\n",
    "        getX(ixs) = Matrix(data_set[ixs, predictor_cols])\n",
    "\n",
    "        _pyArrayToJl(arr) = ASCIIString[p for p in arr]\n",
    "\n",
    "        svcPredict(X) = svc[:predict](X) |> _pyArrayToJl\n",
    "\n",
    "        [getX, svcPredict]\n",
    "    end\n",
    "\n",
    "\n",
    "    truths = data_set[:Species] |> Vector{ASCIIString}\n",
    "\n",
    "    ###Create Pipeline\n",
    "    Pipeline(fits, predicts, f1score, truths, model_state)\n",
    "end"
   ]
  },
  {
   "cell_type": "code",
   "execution_count": 9,
   "metadata": {
    "collapsed": false
   },
   "outputs": [
    {
     "name": "stderr",
     "output_type": "stream",
     "text": [
      "WARNING: imported binding for pipeline overwritten in module Main\n"
     ]
    },
    {
     "data": {
      "text/plain": [
       "MLPipe.Pipeline([getXy,svcFit!],[getX,svcPredict],MLBase.f1score,ASCIIString[\"setosa\",\"setosa\",\"setosa\",\"setosa\",\"setosa\",\"setosa\",\"setosa\",\"setosa\",\"setosa\",\"setosa\"  …  \"virginica\",\"virginica\",\"virginica\",\"virginica\",\"virginica\",\"virginica\",\"virginica\",\"virginica\",\"virginica\",\"virginica\"],paramState,paramState!)"
      ]
     },
     "execution_count": 9,
     "metadata": {},
     "output_type": "execute_result"
    }
   ],
   "source": [
    "pipeline = pipelineGen()"
   ]
  },
  {
   "cell_type": "markdown",
   "metadata": {},
   "source": [
    "## Evaluate Model By Analyzing Train-Test Scores"
   ]
  },
  {
   "cell_type": "code",
   "execution_count": 10,
   "metadata": {
    "collapsed": false
   },
   "outputs": [
    {
     "data": {
      "text/plain": [
       "MLBase.StratifiedRandomSub([[1,2,3,4,5,6,7,8,9,10  …  31,32,33,34,35,36,37,38,39,40],[41,42,43,44,45,46,47,48,49,50  …  71,72,73,74,75,76,77,78,79,80],[81,82,83,84,85,86,87,88,89,90  …  111,112,113,114,115,116,117,118,119,120]],96,[32,32,32,0,0,0,0,0,0,0  …  0,0,0,0,0,0,0,0,0,0],10)"
      ]
     },
     "execution_count": 10,
     "metadata": {},
     "output_type": "execute_result"
    }
   ],
   "source": [
    "cvg = StratifiedRandomSub(pipeline.truths, round(Int64, length(pipeline.truths)*.8), 10)"
   ]
  },
  {
   "cell_type": "code",
   "execution_count": 11,
   "metadata": {
    "collapsed": false
   },
   "outputs": [
    {
     "data": {
      "text/plain": [
       "([0.5555555555555555,0.5667122978683482,0.6382787901174413,0.9624025354708611,0.9603820313169191,0.9579748175560067,0.9304690733526538,0.9335678546321375,0.9255544102014956],[0.5555555555555555,0.5806763285024155,0.6527025953112909,0.910613134142546,0.9749346405228758,0.9163427422250952,0.9133947310572698,0.9285729841766994,0.9319602172852948],[Dict{Symbol,Any}(:svc_C=>0.001),Dict{Symbol,Any}(:svc_C=>0.005),Dict{Symbol,Any}(:svc_C=>0.01),Dict{Symbol,Any}(:svc_C=>0.1),Dict{Symbol,Any}(:svc_C=>1.0),Dict{Symbol,Any}(:svc_C=>10.0),Dict{Symbol,Any}(:svc_C=>50.0),Dict{Symbol,Any}(:svc_C=>100.0),Dict{Symbol,Any}(:svc_C=>500.0)])"
      ]
     },
     "execution_count": 11,
     "metadata": {},
     "output_type": "execute_result"
    }
   ],
   "source": [
    "agg = meanTrainTest\n",
    "model_eval = evalModel(pipeline, cvg, length(pipeline.truths), agg, \n",
    "    :svc_C => [1e-3, 5e-3, 1e-2, .1, 1, 10, 50, 1e2, 5e2])"
   ]
  },
  {
   "cell_type": "code",
   "execution_count": 12,
   "metadata": {
    "collapsed": false
   },
   "outputs": [
    {
     "name": "stdout",
     "output_type": "stream",
     "text": [
      "[Plots.jl] Initializing backend: pyplot\n"
     ]
    },
    {
     "name": "stderr",
     "output_type": "stream",
     "text": [
      "2016-07-27 23:11:21.802 julia[40733:1202679] setCanCycle: is deprecated.  Please use setCollectionBehavior instead\n"
     ]
    },
    {
     "data": {
      "text/html": [
       "<img src=\"data:image/png;base64,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\" />"
      ]
     },
     "execution_count": 12,
     "metadata": {},
     "output_type": "execute_result"
    }
   ],
   "source": [
    "plotEvalModel(model_eval)"
   ]
  },
  {
   "cell_type": "markdown",
   "metadata": {},
   "source": [
    "### Somewhere Around C=1 looks good"
   ]
  },
  {
   "cell_type": "code",
   "execution_count": 13,
   "metadata": {
    "collapsed": false
   },
   "outputs": [
    {
     "name": "stderr",
     "output_type": "stream",
     "text": [
      "//anaconda/lib/python2.7/site-packages/matplotlib/collections.py:590: FutureWarning: elementwise comparison failed; returning scalar instead, but in the future will perform elementwise comparison\n",
      "  if self._edgecolors == str('face'):\n"
     ]
    },
    {
     "data": {
      "text/plain": [
       "MLPipe.Pipeline([getXy,svcFit!],[getX,svcPredict],MLBase.f1score,ASCIIString[\"setosa\",\"setosa\",\"setosa\",\"setosa\",\"setosa\",\"setosa\",\"setosa\",\"setosa\",\"setosa\",\"setosa\"  …  \"virginica\",\"virginica\",\"virginica\",\"virginica\",\"virginica\",\"virginica\",\"virginica\",\"virginica\",\"virginica\",\"virginica\"],paramState,paramState!)"
      ]
     },
     "execution_count": 13,
     "metadata": {},
     "output_type": "execute_result"
    }
   ],
   "source": [
    "validation_pipeline = pipelineGen(iris)"
   ]
  },
  {
   "cell_type": "code",
   "execution_count": 14,
   "metadata": {
    "collapsed": false
   },
   "outputs": [
    {
     "data": {
      "text/plain": [
       "1.0"
      ]
     },
     "execution_count": 14,
     "metadata": {},
     "output_type": "execute_result"
    }
   ],
   "source": [
    "#ensure svc_C is set to 1\n",
    "paramState!(validation_pipeline, :svc_C => 1.)"
   ]
  },
  {
   "cell_type": "code",
   "execution_count": 15,
   "metadata": {
    "collapsed": false
   },
   "outputs": [
    {
     "data": {
      "text/plain": [
       "PyObject LinearSVC(C=1.0, class_weight=None, dual=True, fit_intercept=True,\n",
       "     intercept_scaling=1, loss='squared_hinge', max_iter=1000,\n",
       "     multi_class='ovr', penalty='l2', random_state=None, tol=0.0001,\n",
       "     verbose=0)"
      ]
     },
     "execution_count": 15,
     "metadata": {},
     "output_type": "execute_result"
    }
   ],
   "source": [
    "pipeFit!(validation_pipeline, data_ixs)"
   ]
  },
  {
   "cell_type": "code",
   "execution_count": 16,
   "metadata": {
    "collapsed": false
   },
   "outputs": [
    {
     "data": {
      "text/plain": [
       "0.9326599326599325"
      ]
     },
     "execution_count": 16,
     "metadata": {},
     "output_type": "execute_result"
    }
   ],
   "source": [
    "pipeTest(validation_pipeline, validation_ixs)"
   ]
  },
  {
   "cell_type": "code",
   "execution_count": null,
   "metadata": {
    "collapsed": true
   },
   "outputs": [],
   "source": []
  }
 ],
 "metadata": {
  "kernelspec": {
   "display_name": "Julia 0.4.6",
   "language": "julia",
   "name": "julia-0.4"
  },
  "language_info": {
   "file_extension": ".jl",
   "mimetype": "application/julia",
   "name": "julia",
   "version": "0.4.6"
  }
 },
 "nbformat": 4,
 "nbformat_minor": 0
}
